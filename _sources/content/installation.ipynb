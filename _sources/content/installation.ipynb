{
 "cells": [
  {
   "cell_type": "markdown",
   "metadata": {},
   "source": [
    "# Installation example\n",
    "\n",
    "*Written by Jin Hyun Cheong*\n",
    "\n",
    "Open the current notebook in [Google Colab](http://colab.research.google.com/) and run the cell below to install Py-Feat."
   ]
  },
  {
   "cell_type": "code",
   "execution_count": null,
   "metadata": {},
   "outputs": [],
   "source": [
    "# Install Py-Feat from Pypi.\n",
    "!pip install py-feat"
   ]
  },
  {
   "cell_type": "code",
   "execution_count": 2,
   "metadata": {
    "ExecuteTime": {
     "end_time": "2021-03-24T19:59:33.307515Z",
     "start_time": "2021-03-24T19:59:33.305197Z"
    }
   },
   "outputs": [],
   "source": [
    "# Check Fex class installation.\n",
    "from feat import Fex\n",
    "fex = Fex()"
   ]
  },
  {
   "cell_type": "code",
   "execution_count": null,
   "metadata": {
    "ExecuteTime": {
     "end_time": "2021-03-24T19:58:48.658427Z",
     "start_time": "2021-03-24T19:58:42.264288Z"
    }
   },
   "outputs": [],
   "source": [
    "# Check Detector class installation.\n",
    "from feat import Detector\n",
    "detector = Detector()"
   ]
  }
 ],
 "metadata": {
  "kernelspec": {
   "display_name": "Python 3",
   "language": "python",
   "name": "python3"
  },
  "language_info": {
   "codemirror_mode": {
    "name": "ipython",
    "version": 3
   },
   "file_extension": ".py",
   "mimetype": "text/x-python",
   "name": "python",
   "nbconvert_exporter": "python",
   "pygments_lexer": "ipython3",
   "version": "3.8.5"
  },
  "widgets": {
   "application/vnd.jupyter.widget-state+json": {
    "state": {},
    "version_major": 2,
    "version_minor": 0
   }
  }
 },
 "nbformat": 4,
 "nbformat_minor": 4
}
